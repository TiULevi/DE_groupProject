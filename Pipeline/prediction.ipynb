{
 "cells": [
  {
   "cell_type": "code",
   "execution_count": null,
   "metadata": {},
   "outputs": [],
   "source": [
    "# New student instances\n",
    "new_students = pd.DataFrame('path to new students data')\n",
    "\n",
    "# Predict outcomes for new students\n",
    "new_students_pred = pipeline.predict(new_students)\n",
    "\n",
    "# Map predictions to human-readable format\n",
    "outcome_mapping = {0: 'Fail', 1: 'Succeed'}\n",
    "new_students['Prediction'] = pd.Series(new_students_pred).map(outcome_mapping)\n",
    "\n",
    "# Display the predictions\n",
    "print(new_students[['absences', 'failures', 'Medu', 'Fedu', 'Walc', 'Dalc', 'famrel', 'goout', 'freetime', 'studytime', 'schoolsup', 'higher', 'Prediction']])\n",
    "\n",
    "# Inform the user about their likely outcome\n",
    "for index, row in new_students.iterrows():\n",
    "    if row['Prediction'] == 'Succeed':\n",
    "        print(f\"Student {index + 1}: You are likely to succeed as a student.\")\n",
    "    else:\n",
    "        print(f\"Student {index + 1}: You are likely to fail as a student.\")"
   ]
  }
 ],
 "metadata": {
  "language_info": {
   "name": "python"
  }
 },
 "nbformat": 4,
 "nbformat_minor": 2
}
