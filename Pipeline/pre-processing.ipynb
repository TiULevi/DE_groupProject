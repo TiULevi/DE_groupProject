{
 "cells": [
  {
   "cell_type": "code",
   "execution_count": null,
   "metadata": {},
   "outputs": [],
   "source": [

    "# Loading the data\n",
    "StudentData = pd.read_csv('Path to the file')\n",
    "\n",
    "# Fill missing values\n",
    "StudentData.fillna(0, inplace=True)\n",
    "\n",
    "# OneHotEncode categorical variables\n",
    "categorical_columns = ['schoolsup', 'higher']\n",
    "numerical_columns = ['absences', 'failures', 'Medu', 'Fedu', 'Walc', 'Dalc', 'famrel', 'goout', 'freetime', 'studytime']\n",
    "\n",
    "# Calculate average grade\n",
    "columns_to_average = ['G1', 'G2', 'G3']\n",
    "StudentData['Average_Grade'] = StudentData[columns_to_average].mean(axis=1)\n",
    "\n",
    "# Create categorical grade feature\n",
    "StudentData['Average_Grade_Cat_1'] = pd.cut(StudentData['Average_Grade'], bins=[0, 10, 20], labels=[0, 1], include_lowest=True)\n",
    "\n",
    "# Define feature set X and target variable y\n",
    "X = StudentData[numerical_columns + categorical_columns]\n",
    "y = StudentData['Average_Grade_Cat_1']\n",
    "\n",
    "# Split data into training and test sets\n",
    "X_train, X_test, y_train, y_test = train_test_split(X, y, test_size=0.2, random_state=42)\n",
    "\n",
    "# Define pre-processing steps\n",
    "preprocessor = ColumnTransformer(\n",
    "    transformers=[\n",
    "        ('num', StandardScaler(), numerical_columns),\n",
    "        ('cat', OneHotEncoder(drop='if_binary'), categorical_columns)\n",
    "    ])\n"
   ]
  }
 ],
 "metadata": {
  "language_info": {
   "name": "python"
  }
 },
 "nbformat": 4,
 "nbformat_minor": 2
}
