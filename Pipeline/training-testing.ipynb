{
 "cells": [
  {
   "cell_type": "code",
   "execution_count": null,
   "metadata": {},
   "outputs": [],
   "source": [
 
    "# Define the base models\n",
    "svm_linear_clf = SVC(C=0.1, kernel='linear', gamma='scale', class_weight='balanced', degree=2, probability=True)\n",
    "svm_rbf_clf = SVC(C=0.1, kernel='rbf', gamma='scale', class_weight='balanced', degree=2, probability=True)\n",
    "\n",
    "# Meta-classifier\n",
    "logreg = LogisticRegression(C=10, solver='newton-cg')\n",
    "\n",
    "# Stacking ensemble classifier configuration\n",
    "stack_clf = StackingClassifier(\n",
    "    estimators=[\n",
    "        ('svm_linear_clf', svm_linear_clf),\n",
    "        ('svm_rbf', svm_rbf_clf)\n",
    "    ],\n",
    "    final_estimator=logreg,\n",
    "    cv=StratifiedKFold(n_splits=10, shuffle=True, random_state=42)\n",
    ")\n",
    "\n",
    "# Create the pipeline\n",
    "pipeline = Pipeline(steps=[\n",
    "    ('preprocessor', preprocessor),\n",
    "    ('classifier', stack_clf)\n",
    "])\n",
    "\n",
    "# Fit the pipeline to the training data\n",
    "pipeline.fit(X_train, y_train)\n",
    "\n",
    "# Predict on the training set\n",
    "y_train_pred = pipeline.predict(X_train)\n",
    "\n",
    "# Predict on the test set\n",
    "y_test_pred = pipeline.predict(X_test)"
   ]
  }
 ],
 "metadata": {
  "language_info": {
   "name": "python"
  }
 },
 "nbformat": 4,
 "nbformat_minor": 2
}
